{
 "cells": [
  {
   "cell_type": "code",
   "execution_count": 1,
   "id": "ab96914e-6f12-4d09-90f4-ded4625da824",
   "metadata": {},
   "outputs": [],
   "source": [
    "import numpy as np\n",
    "import poincarepy.potentials as pot\n",
    "from poincarepy import PoincareMapper\n",
    "import matplotlib.pyplot as plt"
   ]
  },
  {
   "cell_type": "markdown",
   "id": "2380e054-ea4f-411f-a983-558d15c462ed",
   "metadata": {},
   "source": [
    "The phase space of this system is 4-dimensional, $\\{x,y,\\dot{x},\\dot{y}\\}$. However, as explained in the lecture, the conservation of total energy $$E = \\phi + K = \\phi(x,y) + \\frac{1}{2}(x^2 + y^2)$$ makes it possible to eliminate one variable, say $y$:\n",
    "$$ \\dot{y} = \\sqrt{2(E-\\phi(x,y)) - \\dot{x}^2}.$$\n",
    "Setting $y=0$, one considers the reduced phase space $S = \\{x,\\dot{x}\\}$. Any point $\\vec{q}\\in S$, together with an **orbit energy** $E$, describes a point in the full phase space:\n",
    "$$\\vec{q} = (x,\\dot{x}) \\longrightarrow \\vec{r} = \\left(x,0,\\dot{x},\\sqrt{2(E-\\phi(x,0)) - \\dot{x}^2}\\right).$$"
   ]
  },
  {
   "cell_type": "code",
   "execution_count": null,
   "id": "fd6f48df-ab84-4940-8d2c-0c4399d46f4b",
   "metadata": {},
   "outputs": [],
   "source": []
  }
 ],
 "metadata": {
  "kernelspec": {
   "display_name": "Python [conda env:astro] *",
   "language": "python",
   "name": "conda-env-astro-py"
  },
  "language_info": {
   "codemirror_mode": {
    "name": "ipython",
    "version": 3
   },
   "file_extension": ".py",
   "mimetype": "text/x-python",
   "name": "python",
   "nbconvert_exporter": "python",
   "pygments_lexer": "ipython3",
   "version": "3.10.9"
  }
 },
 "nbformat": 4,
 "nbformat_minor": 5
}
