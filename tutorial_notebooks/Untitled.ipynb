{
 "cells": [
  {
   "cell_type": "code",
   "execution_count": 1,
   "id": "9bd4ae25-3311-4183-b9a8-890b27330667",
   "metadata": {},
   "outputs": [],
   "source": [
    "import poincarepy as pcp"
   ]
  },
  {
   "cell_type": "code",
   "execution_count": 3,
   "id": "75217f45-0481-4505-b647-e1cff16cc9a2",
   "metadata": {},
   "outputs": [],
   "source": [
    "col = pcp.PoincareCollection.load(\"example_collection.pkl\")"
   ]
  },
  {
   "cell_type": "code",
   "execution_count": 4,
   "id": "29035537-18dc-4eff-80ea-01c32df5ce32",
   "metadata": {},
   "outputs": [
    {
     "ename": "AttributeError",
     "evalue": "'PoincareCollection' object has no attribute 'empty'",
     "output_type": "error",
     "traceback": [
      "\u001b[0;31m---------------------------------------------------------------------------\u001b[0m",
      "\u001b[0;31mAttributeError\u001b[0m                            Traceback (most recent call last)",
      "Cell \u001b[0;32mIn[4], line 1\u001b[0m\n\u001b[0;32m----> 1\u001b[0m \u001b[43mcol\u001b[49m\u001b[38;5;241;43m.\u001b[39;49m\u001b[43mempty\u001b[49m\n",
      "\u001b[0;31mAttributeError\u001b[0m: 'PoincareCollection' object has no attribute 'empty'"
     ]
    }
   ],
   "source": []
  },
  {
   "cell_type": "code",
   "execution_count": 5,
   "id": "29cb73a3-b11d-4602-81ff-bd109f4a7597",
   "metadata": {},
   "outputs": [
    {
     "data": {
      "text/plain": [
       "array([ 10,  30,  50,  70,  90, 110])"
      ]
     },
     "execution_count": 5,
     "metadata": {},
     "output_type": "execute_result"
    }
   ],
   "source": [
    "col.energylist"
   ]
  },
  {
   "cell_type": "code",
   "execution_count": null,
   "id": "2af965c8-7a8e-41aa-9b9e-962c4d966205",
   "metadata": {},
   "outputs": [],
   "source": []
  }
 ],
 "metadata": {
  "kernelspec": {
   "display_name": "Python [conda env:astro] *",
   "language": "python",
   "name": "conda-env-astro-py"
  },
  "language_info": {
   "codemirror_mode": {
    "name": "ipython",
    "version": 3
   },
   "file_extension": ".py",
   "mimetype": "text/x-python",
   "name": "python",
   "nbconvert_exporter": "python",
   "pygments_lexer": "ipython3",
   "version": "3.10.9"
  }
 },
 "nbformat": 4,
 "nbformat_minor": 5
}
