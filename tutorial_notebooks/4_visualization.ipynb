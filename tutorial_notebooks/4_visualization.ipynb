{
 "cells": [
  {
   "cell_type": "markdown",
   "id": "a289c502-1678-46c9-8b48-cadd6a1f7487",
   "metadata": {},
   "source": [
    "# Visualization\n",
    "\n",
    "In the previous example we saw how to use the `PoincareMapper` class to produce a collection of surfaces of section at different energies and visualized them side-by-side using matplotlib. While this is a good way to present results, surfaces of sections are best explored interactively to get an intuition on how and why they are useful. Here, we introduce an interactive tool to visualize them, using poincarepy's `Tomography` class.\n",
    "\n",
    "Since interactivity is somewhat buggy in notebooks, this tool is best used inside a script, and this notebook serves only as documentation. The script `4_visualization.py` contains the relevant code. As you will see, once a `PoincareCollection` object has been created or loaded from a saved file, the only thing left to do is to create a `Tomography` object."
   ]
  },
  {
   "cell_type": "markdown",
   "id": "f1af54d6-cf7b-4818-9a6d-4a07d66477db",
   "metadata": {},
   "source": [
    "Run the python script `4_visualization.py` either from your favourite IDE or from the terminal:\n",
    "```\n",
    "python 4_visualization.py\n",
    "```\n",
    "This should open a window in which you can explore the results in an interactive way using the controls detailed below."
   ]
  },
  {
   "cell_type": "markdown",
   "id": "e1fc9c73-8b6b-4107-b616-867431a9fc88",
   "metadata": {},
   "source": [
    "### Controls\n",
    "* `up/down` keys: Navigate through the energy levels shown visually in the upper left corner\n",
    "* `mouse click` on a curve in the section plane (left panel) to display the corresponding orbit in real space in the right panel\n",
    "* `z` key: Toggle on/off \"single-orbit-redraw mode\": When in this mode, clicking on any point in the section plane produces a new Poincaré map, using the clicked point as an initial condition. Press z again to leave the redraw mode.\n",
    "* `t` key: Toggle on/off \"rectangle-redraw\" mode: When in this mode, you can select a rectangular region in the section plane, and a set of $N_{redraw}$ new orbits with ICs distributed horizontally in the rectangle will be drawn\n",
    "* Setting the $N_{redraw}$ value and clicking on the \"Redraw current view\" button will recalculate the surface of section at the current energy level, with $N_{redraw}$ orbits (as if calling `mapper.section`)\n",
    "\n",
    "### Periodic Orbit Search\n",
    "By definition, an orbit with preiodicity $p$ will show up in a surface of section as a curve of $p$ isolated points. For example, a simple-periodic orbit ($p=1$) always crosses the $y=0$ plane at exactly the same $x$ and $\\dot{x}$ and thus is seen as a single point in the surface of section. Poincarepy provides a method to search, using a numerical root finding algorithm, for these $p$-periodic orbits on a given energy level. Setting $p$ and clicking on the relevant button enables the search mode. When in search mode, clicking on any point in the section plane starts searching iteratively for a $p$-periodic orbit by using the clicked point as starting guess for the search. It is thus beneficial to click on a point close to where you believe the periodic orbit is in the plane. Looking at your terminal (or output) window will show the steps the algorithm takes to look for a periodic orbit. It sometimes happens that it doesn't converge, or that it converges to an unexpected orbit. Play around with it and be surprised by what you find :)"
   ]
  },
  {
   "cell_type": "markdown",
   "id": "34e52b41-86ae-417c-a563-0d5baf63c91e",
   "metadata": {},
   "source": [
    "# What to do next ?\n",
    "Now that you've mastered the art of Poincaré Maps, it's time to start exploring. Create your own potentials, watch how orbits look like in those potentials and get a feeling for the dynamics by creating surfaces of section. The `Tomography` class shown here is the most fun way to do this, but you can of course do it in notebooks as shown previously. The `example_scripts` directory of the repo contains a few scripts that do all the steps from start to visualization to help you get started. You can even create entirely new potentials in addition to those provided by default!\n",
    "\n",
    "If you have any question on the usage of this module, don't hesitate to contact me:\n",
    "\n",
    "patrick.hirling@epfl.ch\n",
    "\n",
    "![image](thanks.jpg)"
   ]
  }
 ],
 "metadata": {
  "kernelspec": {
   "display_name": "Python [conda env:astro] *",
   "language": "python",
   "name": "conda-env-astro-py"
  },
  "language_info": {
   "codemirror_mode": {
    "name": "ipython",
    "version": 3
   },
   "file_extension": ".py",
   "mimetype": "text/x-python",
   "name": "python",
   "nbconvert_exporter": "python",
   "pygments_lexer": "ipython3",
   "version": "3.10.9"
  }
 },
 "nbformat": 4,
 "nbformat_minor": 5
}
